{
 "cells": [
  {
   "cell_type": "code",
   "execution_count": 28,
   "metadata": {},
   "outputs": [],
   "source": [
    "from selenium import webdriver \n",
    "from selenium.webdriver.common.by import By\n",
    "from selenium.webdriver.chrome.service import Service\n",
    "from webdriver_manager.chrome import ChromeDriverManager"
   ]
  },
  {
   "cell_type": "code",
   "execution_count": 29,
   "metadata": {},
   "outputs": [],
   "source": [
    "url = \"https://www.youtube.com/@MumbikerNikhil/videos\""
   ]
  },
  {
   "cell_type": "code",
   "execution_count": 30,
   "metadata": {},
   "outputs": [
    {
     "name": "stderr",
     "output_type": "stream",
     "text": [
      "[WDM] - Downloading: 100%|██████████| 6.46M/6.46M [00:20<00:00, 326kB/s]\n"
     ]
    }
   ],
   "source": [
    "driver = webdriver.Chrome(service=Service(ChromeDriverManager().install()))\n",
    "\n",
    "driver.get(url)"
   ]
  },
  {
   "cell_type": "code",
   "execution_count": 34,
   "metadata": {},
   "outputs": [
    {
     "ename": "TypeError",
     "evalue": "'WebElement' object is not iterable",
     "output_type": "error",
     "traceback": [
      "\u001b[1;31m---------------------------------------------------------------------------\u001b[0m",
      "\u001b[1;31mTypeError\u001b[0m                                 Traceback (most recent call last)",
      "Cell \u001b[1;32mIn [34], line 3\u001b[0m\n\u001b[0;32m      1\u001b[0m videos \u001b[39m=\u001b[39m driver\u001b[39m.\u001b[39mfind_element(by \u001b[39m=\u001b[39m By\u001b[39m.\u001b[39mCLASS_NAME, value \u001b[39m=\u001b[39m \u001b[39m\"\u001b[39m\u001b[39mstyle-scope ytd-rich-item-renderer\u001b[39m\u001b[39m\"\u001b[39m)\n\u001b[1;32m----> 3\u001b[0m \u001b[39mfor\u001b[39;00m video \u001b[39min\u001b[39;00m videos : \n\u001b[0;32m      5\u001b[0m     title \u001b[39m=\u001b[39m video\u001b[39m.\u001b[39mfind_element_by_xpath(\u001b[39m'\u001b[39m\u001b[39m//*[@id=\u001b[39m\u001b[39m\"\u001b[39m\u001b[39mvideo-title\u001b[39m\u001b[39m\"\u001b[39m\u001b[39m]\u001b[39m\u001b[39m'\u001b[39m)\u001b[39m.\u001b[39mtext \n\u001b[0;32m      6\u001b[0m     views \u001b[39m=\u001b[39m video\u001b[39m.\u001b[39mfind_element_by_xpath(\u001b[39m'\u001b[39m\u001b[39m//*[@id=\u001b[39m\u001b[39m\"\u001b[39m\u001b[39mmetadata-line\u001b[39m\u001b[39m\"\u001b[39m\u001b[39m]/span[1]\u001b[39m\u001b[39m'\u001b[39m)\u001b[39m.\u001b[39mtext\n",
      "\u001b[1;31mTypeError\u001b[0m: 'WebElement' object is not iterable"
     ]
    }
   ],
   "source": [
    "\n",
    "videos = driver.find_element(by = By.CLASS_NAME, value = \"style-scope ytd-rich-item-renderer\")\n",
    "\n",
    "for video in videos : \n",
    "\n",
    "    title = video.find_element_by_xpath('//*[@id=\"video-title\"]').text \n",
    "    views = video.find_element_by_xpath('//*[@id=\"metadata-line\"]/span[1]').text\n",
    "    date = video.find_element_by_xpath('//*[@id=\"metadata-line\"]/span[2]').text\n",
    "    duration = video.find_element_by_xpath('//*[@id=\"text\"]').text"
   ]
  }
 ],
 "metadata": {
  "kernelspec": {
   "display_name": "Python 3.10.6 ('webscrapper')",
   "language": "python",
   "name": "python3"
  },
  "language_info": {
   "codemirror_mode": {
    "name": "ipython",
    "version": 3
   },
   "file_extension": ".py",
   "mimetype": "text/x-python",
   "name": "python",
   "nbconvert_exporter": "python",
   "pygments_lexer": "ipython3",
   "version": "3.10.6"
  },
  "orig_nbformat": 4,
  "vscode": {
   "interpreter": {
    "hash": "a5de0eb3511747baffff99c3af738513a637dd1c1167328c5fd178c6b127ed74"
   }
  }
 },
 "nbformat": 4,
 "nbformat_minor": 2
}
