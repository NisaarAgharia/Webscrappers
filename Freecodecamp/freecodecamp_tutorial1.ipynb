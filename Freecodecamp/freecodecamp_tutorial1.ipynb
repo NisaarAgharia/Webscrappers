{
 "cells": [
  {
   "cell_type": "code",
   "execution_count": 1,
   "metadata": {},
   "outputs": [],
   "source": [
    "from bs4 import BeautifulSoup \n",
    "import requests \n",
    "import pandas as pd "
   ]
  },
  {
   "cell_type": "code",
   "execution_count": 2,
   "metadata": {},
   "outputs": [],
   "source": [
    "url = 'http://127.0.0.1:5500/freecodecamp_html.html'"
   ]
  },
  {
   "cell_type": "code",
   "execution_count": 3,
   "metadata": {},
   "outputs": [],
   "source": [
    "with open('freecodecamp_html.html' , 'r') as html_file : \n",
    "    content = html_file.read() \n",
    "    \n",
    "    soup = BeautifulSoup(content , 'lxml' ) "
   ]
  },
  {
   "cell_type": "code",
   "execution_count": 4,
   "metadata": {},
   "outputs": [],
   "source": [
    "#print(soup.prettify()) # Prettify the result."
   ]
  },
  {
   "cell_type": "code",
   "execution_count": 5,
   "metadata": {},
   "outputs": [],
   "source": [
    "soup_content = soup \n",
    "#print(soup_content)"
   ]
  },
  {
   "cell_type": "code",
   "execution_count": 6,
   "metadata": {},
   "outputs": [],
   "source": [
    "tag = soup.find('h5') # Searches for single tag."
   ]
  },
  {
   "cell_type": "code",
   "execution_count": 7,
   "metadata": {},
   "outputs": [
    {
     "name": "stdout",
     "output_type": "stream",
     "text": [
      "Python for beginners\n",
      "Python Web Development\n",
      "Python Machine Learning\n"
     ]
    }
   ],
   "source": [
    "tags = soup.find_all('h5') # Searches for all tags.\n",
    "\n",
    "for course in tags : \n",
    "    print(course.text) "
   ]
  },
  {
   "cell_type": "code",
   "execution_count": 8,
   "metadata": {},
   "outputs": [
    {
     "name": "stdout",
     "output_type": "stream",
     "text": [
      "If you are new to Python, this is the course that you should buy!\n",
      "If you feel enough confident with python, you are ready to learn how to create your own website!\n",
      "Become a Python Machine Learning master!\n"
     ]
    }
   ],
   "source": [
    "card_body = soup.find_all('p','card-text')\n",
    "\n",
    "for card_text in card_body : \n",
    "    print(card_text.text)"
   ]
  },
  {
   "cell_type": "markdown",
   "metadata": {},
   "source": [
    "OR METHOD "
   ]
  },
  {
   "cell_type": "code",
   "execution_count": 9,
   "metadata": {},
   "outputs": [
    {
     "data": {
      "text/html": [
       "<div>\n",
       "<style scoped>\n",
       "    .dataframe tbody tr th:only-of-type {\n",
       "        vertical-align: middle;\n",
       "    }\n",
       "\n",
       "    .dataframe tbody tr th {\n",
       "        vertical-align: top;\n",
       "    }\n",
       "\n",
       "    .dataframe thead th {\n",
       "        text-align: right;\n",
       "    }\n",
       "</style>\n",
       "<table border=\"1\" class=\"dataframe\">\n",
       "  <thead>\n",
       "    <tr style=\"text-align: right;\">\n",
       "      <th></th>\n",
       "      <th>Course</th>\n",
       "      <th>Price</th>\n",
       "      <th>Description</th>\n",
       "    </tr>\n",
       "  </thead>\n",
       "  <tbody>\n",
       "    <tr>\n",
       "      <th>0</th>\n",
       "      <td>Python for beginners</td>\n",
       "      <td>20$</td>\n",
       "      <td>If you are new to Python, this is the course t...</td>\n",
       "    </tr>\n",
       "    <tr>\n",
       "      <th>1</th>\n",
       "      <td>Python Web Development</td>\n",
       "      <td>50$</td>\n",
       "      <td>If you feel enough confident with python, you ...</td>\n",
       "    </tr>\n",
       "    <tr>\n",
       "      <th>2</th>\n",
       "      <td>Python Machine Learning</td>\n",
       "      <td>100$</td>\n",
       "      <td>Become a Python Machine Learning master!</td>\n",
       "    </tr>\n",
       "  </tbody>\n",
       "</table>\n",
       "</div>"
      ],
      "text/plain": [
       "                    Course Price  \\\n",
       "0     Python for beginners   20$   \n",
       "1   Python Web Development   50$   \n",
       "2  Python Machine Learning  100$   \n",
       "\n",
       "                                         Description  \n",
       "0  If you are new to Python, this is the course t...  \n",
       "1  If you feel enough confident with python, you ...  \n",
       "2           Become a Python Machine Learning master!  "
      ]
     },
     "execution_count": 9,
     "metadata": {},
     "output_type": "execute_result"
    }
   ],
   "source": [
    "with open('freecodecamp_html.html' , 'r') as html_file : \n",
    "    content = html_file.read() \n",
    "    \n",
    "    soup = BeautifulSoup(content , 'lxml' ) \n",
    "\n",
    "course_div = soup.find_all('div' , class_ = 'card')\n",
    "\n",
    "course_title = []\n",
    "course_price = [] \n",
    "course_description = [] \n",
    "\n",
    "for course in course_div : \n",
    "    course_title.append(course.h5.text)\n",
    "    course_price.append(course.a.text.split()[-1])\n",
    "    course_description.append(course.p.text)\n",
    "\n",
    "course_dict = {'Course' : course_title , 'Price' : course_price , 'Description' : course_description}\n",
    "\n",
    "course_df = pd.DataFrame(data = course_dict )\n",
    "\n",
    "course_df.head()"
   ]
  }
 ],
 "metadata": {
  "kernelspec": {
   "display_name": "Python 3.10.6 ('webscrapper')",
   "language": "python",
   "name": "python3"
  },
  "language_info": {
   "codemirror_mode": {
    "name": "ipython",
    "version": 3
   },
   "file_extension": ".py",
   "mimetype": "text/x-python",
   "name": "python",
   "nbconvert_exporter": "python",
   "pygments_lexer": "ipython3",
   "version": "3.10.6"
  },
  "orig_nbformat": 4,
  "vscode": {
   "interpreter": {
    "hash": "4138be38297a5f7d3e546a06ea7d3532f8881a7f9788211efc4087753721c459"
   }
  }
 },
 "nbformat": 4,
 "nbformat_minor": 2
}
