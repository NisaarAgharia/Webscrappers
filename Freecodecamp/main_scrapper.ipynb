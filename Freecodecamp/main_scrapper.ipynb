{
 "cells": [
  {
   "cell_type": "code",
   "execution_count": 31,
   "metadata": {},
   "outputs": [],
   "source": [
    "from bs4 import BeautifulSoup\n",
    "import requests\n",
    "import time \n",
    "import pandas as pd "
   ]
  },
  {
   "cell_type": "code",
   "execution_count": 32,
   "metadata": {},
   "outputs": [],
   "source": [
    "URL = 'https://www.timesjobs.com/candidate/job-search.html?searchType=personalizedSearch&from=submit&txtKeywords=data+analyst&txtLocation=&cboWorkExp1=0'"
   ]
  },
  {
   "cell_type": "code",
   "execution_count": 33,
   "metadata": {},
   "outputs": [],
   "source": [
    "def find_jobs() :\n",
    "\n",
    "    html_text = requests.get(URL).content\n",
    "\n",
    "    soup = BeautifulSoup(html_text , 'lxml')\n",
    "\n",
    "    card_containers = soup.find_all('li' , class_ = 'clearfix job-bx wht-shd-bx')\n",
    "    Jobs = []\n",
    "    Experience_yrs = []\n",
    "    Location = []\n",
    "    Posted = []\n",
    "    Skills = []\n",
    "\n",
    "\n",
    "    for index,card in enumerate(card_containers) : \n",
    "\n",
    "        Posted_On = card.find('span' , class_ = 'sim-posted').text\n",
    "        if 'few' in Posted_On : \n",
    "            Jobs.append(card.find('h3' , class_ = 'joblist-comp-name').text.replace('',''))\n",
    "            Experience_yrs.append(list(card.find('li'))[-1])\n",
    "            Location.append(card.find('span').text)\n",
    "            Skills.append(card.find('span' , class_ = 'srp-skills').text)\n",
    "            Posted.append(card.find('span' , class_ = 'sim-posted').text)\n",
    "\n",
    "    Card_dictionary = {\n",
    "            \"Job Title\" : Jobs , \n",
    "            \"Experience in Years\" : Experience_yrs , \n",
    "            \"Skills\" : Skills , \n",
    "            \"Location \" : Location , \n",
    "            \"Posted On\" : Posted \n",
    "    }\n",
    "\n",
    "    Jobs_df = pd.DataFrame(data = Card_dictionary)\n",
    "    Jobs_df.to_csv('Jobs_df.csv')\n",
    "\n",
    "find_jobs() \n"
   ]
  },
  {
   "cell_type": "code",
   "execution_count": 34,
   "metadata": {},
   "outputs": [
    {
     "data": {
      "text/plain": [
       "'\\nif __name__ == \\'__main__\\' : \\n    find_jobs() \\n    time_wait = 1 \\n    print(f\"Waiting {time_wait} minutes ....\")\\n    time.sleep(time_wait * 60)\\n'"
      ]
     },
     "execution_count": 34,
     "metadata": {},
     "output_type": "execute_result"
    }
   ],
   "source": [
    "# If you need to continue run the program for long after specific interval.\n",
    "\n",
    "\"\"\"\n",
    "if __name__ == '__main__' : \n",
    "    find_jobs() \n",
    "    time_wait = 1 \n",
    "    print(f\"Waiting {time_wait} minutes ....\")\n",
    "    time.sleep(time_wait * 60)\n",
    "\"\"\""
   ]
  }
 ],
 "metadata": {
  "kernelspec": {
   "display_name": "Python 3.10.6 ('webscrapper')",
   "language": "python",
   "name": "python3"
  },
  "language_info": {
   "codemirror_mode": {
    "name": "ipython",
    "version": 3
   },
   "file_extension": ".py",
   "mimetype": "text/x-python",
   "name": "python",
   "nbconvert_exporter": "python",
   "pygments_lexer": "ipython3",
   "version": "3.10.6"
  },
  "orig_nbformat": 4,
  "vscode": {
   "interpreter": {
    "hash": "4138be38297a5f7d3e546a06ea7d3532f8881a7f9788211efc4087753721c459"
   }
  }
 },
 "nbformat": 4,
 "nbformat_minor": 2
}
