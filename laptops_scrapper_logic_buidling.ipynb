{
 "cells": [
  {
   "cell_type": "code",
   "execution_count": 171,
   "metadata": {},
   "outputs": [],
   "source": [
    "# Import Libraries \n",
    "\n",
    "\n",
    "from bs4 import BeautifulSoup \n",
    "import requests"
   ]
  },
  {
   "cell_type": "markdown",
   "metadata": {},
   "source": [
    "url = 'https://www.flipkart.com/laptops-store?fm=neo%2Fmerchandising&iid=M_a6e2d32e-0016-4b44-9f7f-048bd55a1e85_1_372UD5BXDFYS_MC.WB1CFS0X26D1&otracker=hp_rich_navigation_2_1.navigationCard.RICH_NAVIGATION_Electronics~Laptop%2Band%2BDesktop~Laptops_WB1CFS0X26D1&otracker1=hp_rich_navigation_PINNED_neo%2Fmerchandising_NA_NAV_EXPANDABLE_navigationCard_cc_2_L2_view-all&cid=WB1CFS0X26D1'"
   ]
  },
  {
   "cell_type": "markdown",
   "metadata": {},
   "source": [
    "url = 'https://www.flipkart.com/6bo/b5g/~cs-188vs5a0l8/pr?sid=6bo%2Cb5g&collection-tab-name=Top+Gaming&ctx=eyJjYXJkQ29udGV4dCI6eyJhdHRyaWJ1dGVzIjp7InRpdGxlIjp7Im11bHRpVmFsdWVkQXR0cmlidXRlIjp7ImtleSI6InRpdGxlIiwiaW5mZXJlbmNlVHlwZSI6IlRJVExFIiwidmFsdWVzIjpbIkdhbWluZyBMYXB0b3BzIl0sInZhbHVlVHlwZSI6Ik1VTFRJX1ZBTFVFRCJ9fX19fQ%3D%3D&wid=21.productCard.PMU_V2_1'"
   ]
  },
  {
   "cell_type": "code",
   "execution_count": 172,
   "metadata": {},
   "outputs": [],
   "source": [
    "page_number = 1"
   ]
  },
  {
   "cell_type": "code",
   "execution_count": 173,
   "metadata": {},
   "outputs": [],
   "source": [
    "url = f\"https://www.flipkart.com/laptops/~cs-188vs5a0l8/pr?sid=6bo%2Cb5g&collection-tab-name=Top%20Gaming&ctx=eyJjYXJkQ29udGV4dCI6eyJhdHRyaWJ1dGVzIjp7InRpdGxlIjp7Im11bHRpVmFsdWVkQXR0cmlidXRlIjp7ImtleSI6InRpdGxlIiwiaW5mZXJlbmNlVHlwZSI6IlRJVExFIiwidmFsdWVzIjpbIkdhbWluZyBMYXB0b3BzIl0sInZhbHVlVHlwZSI6Ik1VTFRJX1ZBTFVFRCJ9fX19fQ%3D%3D&wid=21.productCard.PMU_V2_1&page={page_number}\""
   ]
  },
  {
   "cell_type": "code",
   "execution_count": 174,
   "metadata": {},
   "outputs": [],
   "source": [
    "\n",
    "\n",
    "r = requests.get(url)"
   ]
  },
  {
   "cell_type": "code",
   "execution_count": 175,
   "metadata": {},
   "outputs": [
    {
     "name": "stdout",
     "output_type": "stream",
     "text": [
      "<Response [200]>\n"
     ]
    },
    {
     "data": {
      "text/plain": [
       "'\\nif you print r , you will get a response code,\\nif response code is 200-299,\\nyou can get the HTML file of the web page to scrape.\\n\\n'"
      ]
     },
     "execution_count": 175,
     "metadata": {},
     "output_type": "execute_result"
    }
   ],
   "source": [
    "print(r) \n",
    "\n",
    "\"\"\"\n",
    "if you print r , you will get a response code,\n",
    "if response code is 200-299,\n",
    "you can get the HTML file of the web page to scrape.\n",
    "\n",
    "\"\"\""
   ]
  },
  {
   "cell_type": "markdown",
   "metadata": {},
   "source": [
    "1.Information Responses (100-199) <br>2.Successful Responses (200-299)<br>\n",
    "3.Redirection Responses (300-399)<br>\n",
    "4.Client Error Responses (400-499)<br>\n",
    "5.Server Error Responses (500-599)<br>\n"
   ]
  },
  {
   "cell_type": "code",
   "execution_count": 176,
   "metadata": {},
   "outputs": [],
   "source": [
    "# To get the html content we will use content method \n",
    "\n",
    "\n",
    "r = requests.get(url).content"
   ]
  },
  {
   "cell_type": "markdown",
   "metadata": {},
   "source": [
    "Convert HTML file to BeautifulSoup Object"
   ]
  },
  {
   "cell_type": "code",
   "execution_count": 177,
   "metadata": {},
   "outputs": [],
   "source": [
    "soup = BeautifulSoup(r , 'lxml')\n"
   ]
  },
  {
   "cell_type": "code",
   "execution_count": 178,
   "metadata": {},
   "outputs": [],
   "source": [
    "laptops_full_div = soup.find_all('div','_2kHMtA')"
   ]
  },
  {
   "cell_type": "code",
   "execution_count": 179,
   "metadata": {},
   "outputs": [
    {
     "data": {
      "text/plain": [
       "\"\\nlaptop_names = laptops_full_div.find('div','_4rR01T').text \\nlaptop_names\\n\\nlaptop_prices = int((laptops_full_div.find('div','_30jeq3 _1_WHN1').text).replace('₹','').replace(',',''))\\nlaptop_prices\\n\\nlaptop_ratings = laptops_full_div.find('div','_3LWZlK').text\\nlaptop_ratings\\n\\n\""
      ]
     },
     "execution_count": 179,
     "metadata": {},
     "output_type": "execute_result"
    }
   ],
   "source": [
    "\"\"\"\n",
    "laptop_names = laptops_full_div.find('div','_4rR01T').text \n",
    "laptop_names\n",
    "\n",
    "laptop_prices = int((laptops_full_div.find('div','_30jeq3 _1_WHN1').text).replace('₹','').replace(',',''))\n",
    "laptop_prices\n",
    "\n",
    "laptop_ratings = laptops_full_div.find('div','_3LWZlK').text\n",
    "laptop_ratings\n",
    "\n",
    "\"\"\""
   ]
  },
  {
   "cell_type": "code",
   "execution_count": 180,
   "metadata": {},
   "outputs": [],
   "source": [
    "laptop_names = []\n",
    "laptop_prices = []\n",
    "laptop_ratings = []\n",
    "\n",
    "for laptop in laptops_full_div : \n",
    "    laptop_names.append(laptop.find('div','_4rR01T').text)\n",
    "    laptop_prices.append(int((laptop.find('div','_30jeq3 _1_WHN1').text).replace('₹','').replace(',','')))\n",
    "    laptop_ratings.append(soup.find('div','_3LWZlK').text)\n",
    "\n"
   ]
  },
  {
   "cell_type": "code",
   "execution_count": 182,
   "metadata": {},
   "outputs": [
    {
     "name": "stdout",
     "output_type": "stream",
     "text": [
      "True\n"
     ]
    }
   ],
   "source": [
    "if len(laptop_names) == len(laptop_prices) : \n",
    "    print(\"True\")"
   ]
  }
 ],
 "metadata": {
  "kernelspec": {
   "display_name": "Python 3.10.5 64-bit",
   "language": "python",
   "name": "python3"
  },
  "language_info": {
   "codemirror_mode": {
    "name": "ipython",
    "version": 3
   },
   "file_extension": ".py",
   "mimetype": "text/x-python",
   "name": "python",
   "nbconvert_exporter": "python",
   "pygments_lexer": "ipython3",
   "version": "3.10.5"
  },
  "orig_nbformat": 4,
  "vscode": {
   "interpreter": {
    "hash": "8c3d4d9970fc5c09c50d9318a9c7fbf4d0159e4b28833276f5678ee22bded273"
   }
  }
 },
 "nbformat": 4,
 "nbformat_minor": 2
}
