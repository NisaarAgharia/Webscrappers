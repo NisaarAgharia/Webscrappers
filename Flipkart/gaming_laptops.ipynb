{
 "cells": [
  {
   "cell_type": "code",
   "execution_count": 36,
   "metadata": {},
   "outputs": [],
   "source": [
    "# Import Libraries \n",
    "from bs4 import BeautifulSoup \n",
    "import requests\n",
    "import pandas as pd "
   ]
  },
  {
   "cell_type": "code",
   "execution_count": 37,
   "metadata": {},
   "outputs": [],
   "source": [
    "\n",
    "laptop_names = []\n",
    "laptop_prices = []\n",
    "laptop_ratings = []\n",
    "\n",
    "laptop_dict = {}\n",
    "\n",
    "for i in range(1,10): \n",
    "    \n",
    "    url = f\"https://www.flipkart.com/laptops/~cs-188vs5a0l8/pr?sid=6bo%2Cb5g&collection-tab-name=Top%20Gaming&ctx=eyJjYXJkQ29udGV4dCI6eyJhdHRyaWJ1dGVzIjp7InRpdGxlIjp7Im11bHRpVmFsdWVkQXR0cmlidXRlIjp7ImtleSI6InRpdGxlIiwiaW5mZXJlbmNlVHlwZSI6IlRJVExFIiwidmFsdWVzIjpbIkdhbWluZyBMYXB0b3BzIl0sInZhbHVlVHlwZSI6Ik1VTFRJX1ZBTFVFRCJ9fX19fQ%3D%3D&wid=21.productCard.PMU_V2_1&page={i}\"\n",
    "\n",
    "    r = requests.get(url).content\n",
    "\n",
    "    soup = BeautifulSoup(r , 'lxml')\n",
    "\n",
    "    laptops_full_div = soup.find_all('div','_2kHMtA')\n",
    "\n",
    "    for laptop in laptops_full_div : \n",
    "        name = laptop.find('div','_4rR01T').text\n",
    "        laptop_names.append(name)\n",
    "      \n",
    "        price = int((laptop.find('div','_30jeq3 _1_WHN1').text).replace('₹','').replace(',',''))\n",
    "        laptop_prices.append(price)\n",
    "\n",
    "        rating = soup.find('div','_3LWZlK').text\n",
    "        laptop_ratings.append(rating)\n",
    "\n",
    "\n",
    "\n"
   ]
  },
  {
   "cell_type": "code",
   "execution_count": 38,
   "metadata": {},
   "outputs": [],
   "source": [
    "laptop_dict = {\n",
    "                'Name' : laptop_names , \n",
    "                'Price' : laptop_prices , \n",
    "                'Rating' : laptop_ratings \n",
    "              }"
   ]
  },
  {
   "cell_type": "code",
   "execution_count": 39,
   "metadata": {},
   "outputs": [
    {
     "data": {
      "text/html": [
       "<div>\n",
       "<style scoped>\n",
       "    .dataframe tbody tr th:only-of-type {\n",
       "        vertical-align: middle;\n",
       "    }\n",
       "\n",
       "    .dataframe tbody tr th {\n",
       "        vertical-align: top;\n",
       "    }\n",
       "\n",
       "    .dataframe thead th {\n",
       "        text-align: right;\n",
       "    }\n",
       "</style>\n",
       "<table border=\"1\" class=\"dataframe\">\n",
       "  <thead>\n",
       "    <tr style=\"text-align: right;\">\n",
       "      <th></th>\n",
       "      <th>Name</th>\n",
       "      <th>Price</th>\n",
       "      <th>Rating</th>\n",
       "    </tr>\n",
       "  </thead>\n",
       "  <tbody>\n",
       "    <tr>\n",
       "      <th>0</th>\n",
       "      <td>acer Aspire 7 Core i5 12th Gen - (8 GB/512 GB ...</td>\n",
       "      <td>57490</td>\n",
       "      <td>4.3</td>\n",
       "    </tr>\n",
       "    <tr>\n",
       "      <th>1</th>\n",
       "      <td>acer Nitro 5 Ryzen 5 Hexa Core AMD R5-5600H - ...</td>\n",
       "      <td>66990</td>\n",
       "      <td>4.3</td>\n",
       "    </tr>\n",
       "    <tr>\n",
       "      <th>2</th>\n",
       "      <td>acer Aspire 7 Core i5 12th Gen - (16 GB/512 GB...</td>\n",
       "      <td>53990</td>\n",
       "      <td>4.3</td>\n",
       "    </tr>\n",
       "    <tr>\n",
       "      <th>3</th>\n",
       "      <td>MSI Bravo 15 Ryzen 5 Hexa Core AMD R5-5600H - ...</td>\n",
       "      <td>49990</td>\n",
       "      <td>4.3</td>\n",
       "    </tr>\n",
       "    <tr>\n",
       "      <th>4</th>\n",
       "      <td>ASUS TUF Gaming F15 Core i5 10th Gen - (8 GB/5...</td>\n",
       "      <td>55990</td>\n",
       "      <td>4.3</td>\n",
       "    </tr>\n",
       "  </tbody>\n",
       "</table>\n",
       "</div>"
      ],
      "text/plain": [
       "                                                Name  Price Rating\n",
       "0  acer Aspire 7 Core i5 12th Gen - (8 GB/512 GB ...  57490    4.3\n",
       "1  acer Nitro 5 Ryzen 5 Hexa Core AMD R5-5600H - ...  66990    4.3\n",
       "2  acer Aspire 7 Core i5 12th Gen - (16 GB/512 GB...  53990    4.3\n",
       "3  MSI Bravo 15 Ryzen 5 Hexa Core AMD R5-5600H - ...  49990    4.3\n",
       "4  ASUS TUF Gaming F15 Core i5 10th Gen - (8 GB/5...  55990    4.3"
      ]
     },
     "execution_count": 39,
     "metadata": {},
     "output_type": "execute_result"
    }
   ],
   "source": [
    "gaming_laptops = pd.DataFrame(data = laptop_dict, columns=['Name','Price','Rating'])\n",
    "gaming_laptops.head()"
   ]
  }
 ],
 "metadata": {
  "kernelspec": {
   "display_name": "Python 3.10.6 ('webscrapper')",
   "language": "python",
   "name": "python3"
  },
  "language_info": {
   "codemirror_mode": {
    "name": "ipython",
    "version": 3
   },
   "file_extension": ".py",
   "mimetype": "text/x-python",
   "name": "python",
   "nbconvert_exporter": "python",
   "pygments_lexer": "ipython3",
   "version": "3.10.6"
  },
  "orig_nbformat": 4,
  "vscode": {
   "interpreter": {
    "hash": "4138be38297a5f7d3e546a06ea7d3532f8881a7f9788211efc4087753721c459"
   }
  }
 },
 "nbformat": 4,
 "nbformat_minor": 2
}
